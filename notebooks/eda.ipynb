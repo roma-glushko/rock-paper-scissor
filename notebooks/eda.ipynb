{
 "metadata": {
  "orig_nbformat": 2,
  "kernelspec": {
   "name": "python3",
   "display_name": "Python 3",
   "language": "python"
  }
 },
 "nbformat": 4,
 "nbformat_minor": 2,
 "cells": [
  {
   "cell_type": "code",
   "execution_count": 1,
   "metadata": {},
   "outputs": [],
   "source": [
    "%matplotlib inline"
   ]
  },
  {
   "cell_type": "code",
   "execution_count": 2,
   "metadata": {},
   "outputs": [],
   "source": [
    "%load_ext autoreload"
   ]
  },
  {
   "cell_type": "code",
   "execution_count": 3,
   "metadata": {},
   "outputs": [],
   "source": [
    "%autoreload 2"
   ]
  },
  {
   "source": [
    "# EDA"
   ],
   "cell_type": "markdown",
   "metadata": {}
  },
  {
   "cell_type": "code",
   "execution_count": 8,
   "metadata": {},
   "outputs": [],
   "source": [
    "import os\n",
    "import tensorflow as tf\n",
    "from morty.config import ConfigManager"
   ]
  },
  {
   "cell_type": "code",
   "execution_count": 6,
   "metadata": {},
   "outputs": [
    {
     "output_type": "stream",
     "name": "stdout",
     "text": [
      "ConfigManager({\n  \"seed\": 127630658,\n  \"train_dataset_path\": \"data/rps/rps/\",\n  \"test_dataset_path\": \"data/rps-test-set/rps-test-set/\",\n  \"image_size\": [\n    300,\n    300\n  ],\n  \"num_classes\": 3,\n  \"epochs\": 100,\n  \"batch_size\": 32,\n  \"learning_rate\": 0.001,\n  \"feature_extractor\": \"MobileNetV2\",\n  \"train_augmentation\": \"Compose([\\n  VerticalFlip(always_apply=False, p=0.5),\\n  HorizontalFlip(always_apply=False, p=0.5),\\n  RandomBrightnessContrast(always_apply=False, p=0.5, brightness_limit=(-0.2, 0.2), contrast_limit=(-0.1, 0.1), brightness_by_max=False),\\n  CoarseDropout(always_apply=False, p=0.5, max_holes=20, max_height=8, max_width=8, min_holes=10, min_height=8, min_width=8, fill_value=0, mask_fill_value=None),\\n  GaussNoise(always_apply=False, p=1.0, var_limit=(10.0, 50.0)),\\n], p=1.0, bbox_params=None, keypoint_params=None, additional_targets={})\",\n  \"validation_augmentation\": \"Compose([\\n  VerticalFlip(always_apply=False, p=0.5),\\n  HorizontalFlip(always_apply=False, p=0.5),\\n], p=1.0, bbox_params=None, keypoint_params=None, additional_targets={})\",\n  \"test_augmentation\": \"Compose([\\n], p=1.0, bbox_params=None, keypoint_params=None, additional_targets={})\",\n  \"config_file\": \"configs/basic_config\"\n})\n"
     ]
    }
   ],
   "source": [
    "config = ConfigManager(config_path='configs', config_name='basic_config', console_args={})\n",
    "\n",
    "print(config)"
   ]
  },
  {
   "cell_type": "code",
   "execution_count": 10,
   "metadata": {},
   "outputs": [
    {
     "output_type": "stream",
     "name": "stdout",
     "text": [
      "Train Dataset: {'rock': 840, 'paper': 840, 'scissors': 840}\n"
     ]
    }
   ],
   "source": [
    "train_stats = {}\n",
    "\n",
    "for class_name in ('rock', 'paper', 'scissors'):\n",
    "    images = tf.io.gfile.glob(os.path.join(config.train_dataset_path, class_name, '*.png'))\n",
    "\n",
    "    train_stats[class_name] = len(images)\n",
    "\n",
    "print('Train Dataset: {}'.format(train_stats))"
   ]
  },
  {
   "cell_type": "code",
   "execution_count": 11,
   "metadata": {},
   "outputs": [
    {
     "output_type": "stream",
     "name": "stdout",
     "text": [
      "Test Dataset: {'rock': 124, 'paper': 124, 'scissors': 124}\n"
     ]
    }
   ],
   "source": [
    "test_stats = {}\n",
    "\n",
    "for class_name in ('rock', 'paper', 'scissors'):\n",
    "    images = tf.io.gfile.glob(os.path.join(config.test_dataset_path, class_name, '*.png'))\n",
    "\n",
    "    test_stats[class_name] = len(images)\n",
    "\n",
    "print('Test Dataset: {}'.format(test_stats))"
   ]
  },
  {
   "cell_type": "code",
   "execution_count": null,
   "metadata": {},
   "outputs": [],
   "source": []
  }
 ]
}