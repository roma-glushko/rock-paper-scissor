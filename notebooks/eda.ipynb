{
 "metadata": {
  "orig_nbformat": 2,
  "kernelspec": {
   "name": "python3",
   "display_name": "Python 3",
   "language": "python"
  }
 },
 "nbformat": 4,
 "nbformat_minor": 2,
 "cells": [
  {
   "cell_type": "code",
   "execution_count": 1,
   "metadata": {},
   "outputs": [],
   "source": [
    "%matplotlib inline"
   ]
  },
  {
   "cell_type": "code",
   "execution_count": 2,
   "metadata": {},
   "outputs": [],
   "source": [
    "%load_ext autoreload"
   ]
  },
  {
   "cell_type": "code",
   "execution_count": 3,
   "metadata": {},
   "outputs": [],
   "source": [
    "%autoreload 2"
   ]
  },
  {
   "source": [
    "# EDA"
   ],
   "cell_type": "markdown",
   "metadata": {}
  },
  {
   "cell_type": "code",
   "execution_count": 4,
   "metadata": {},
   "outputs": [],
   "source": [
    "import os\n",
    "import tensorflow as tf\n",
    "from morty.config import ConfigManager\n",
    "from rock_paper_scissors import get_dataset_stats"
   ]
  },
  {
   "cell_type": "code",
   "execution_count": 5,
   "metadata": {},
   "outputs": [
    {
     "output_type": "stream",
     "name": "stdout",
     "text": [
      "ConfigManager({\n  \"seed\": 63815329,\n  \"train_dataset_path\": \"data/full-rps-webcam-train-dataset/\",\n  \"val_dataset_path\": \"data/webcam_val/\",\n  \"test_dataset_path\": \"data/webcam_test/\",\n  \"image_size\": [\n    300,\n    300\n  ],\n  \"num_classes\": 3,\n  \"epochs\": 50,\n  \"batch_size\": 32,\n  \"feature_extractor\": \"MobileNetV2\",\n  \"optimizer\": \"rmsprop\",\n  \"l2_strength\": 0.01,\n  \"optimizer_config\": {\n    \"learning_rate\": 0.001\n  },\n  \"train_augmentation\": \"Compose([\\n  VerticalFlip(always_apply=False, p=0.5),\\n  HorizontalFlip(always_apply=False, p=0.5),\\n  RandomBrightnessContrast(always_apply=False, p=0.5, brightness_limit=(-0.2, 0.2), contrast_limit=(-0.1, 0.1), brightness_by_max=False),\\n  HueSaturationValue(always_apply=False, p=1.0, hue_shift_limit=(-20, 20), sat_shift_limit=(-30, 30), val_shift_limit=(-20, 20)),\\n  GaussNoise(always_apply=False, p=1.0, var_limit=(10.0, 50.0)),\\n  MotionBlur(always_apply=False, p=1.0, blur_limit=(3, 6)),\\n  CoarseDropout(always_apply=False, p=0.8, max_holes=50, max_height=10, max_width=10, min_holes=20, min_height=8, min_width=8, fill_value=0, mask_fill_value=None),\\n  ImageCompression(always_apply=False, p=0.5, quality_lower=80, quality_upper=100, compression_type=0),\\n  ISONoise(always_apply=False, p=1.0, intensity=(0.1, 0.5), color_shift=(0.01, 0.05)),\\n], p=1.0, bbox_params=None, keypoint_params=None, additional_targets={})\",\n  \"config_file\": \"configs/basic_config\"\n})\n"
     ]
    }
   ],
   "source": [
    "config = ConfigManager(config_path='configs', config_name='basic_config', console_args={})\n",
    "\n",
    "print(config)"
   ]
  },
  {
   "cell_type": "code",
   "execution_count": 6,
   "metadata": {},
   "outputs": [
    {
     "output_type": "stream",
     "name": "stdout",
     "text": [
      "Train Dataset: {'rock': 1281, 'paper': 1283, 'scissors': 1287, 'total': 3851}\n"
     ]
    }
   ],
   "source": [
    "train_stats = get_dataset_stats(config.train_dataset_path)\n",
    "\n",
    "print('Train Dataset: {}'.format(train_stats))"
   ]
  },
  {
   "cell_type": "code",
   "execution_count": 7,
   "metadata": {},
   "outputs": [
    {
     "output_type": "stream",
     "name": "stdout",
     "text": [
      "WebCam Train Dataset: {'rock': 329, 'paper': 362, 'scissors': 329, 'total': 1020}\n"
     ]
    }
   ],
   "source": [
    "webcam_train_stats = get_dataset_stats('./data/webcam_train/')\n",
    "\n",
    "print('WebCam Train Dataset: {}'.format(webcam_train_stats))"
   ]
  },
  {
   "cell_type": "code",
   "execution_count": 8,
   "metadata": {},
   "outputs": [
    {
     "output_type": "stream",
     "name": "stdout",
     "text": [
      "WebCam Train Dataset: {'rock': 269, 'paper': 267, 'scissors': 268, 'total': 804}\n"
     ]
    }
   ],
   "source": [
    "webcam_train_stats = get_dataset_stats('./data/webcam_val/')\n",
    "\n",
    "print('WebCam Train Dataset: {}'.format(webcam_train_stats))"
   ]
  },
  {
   "cell_type": "code",
   "execution_count": 9,
   "metadata": {},
   "outputs": [
    {
     "output_type": "stream",
     "name": "stdout",
     "text": [
      "WebCam Test Dataset: {'rock': 188, 'paper': 176, 'scissors': 176, 'total': 540}\n"
     ]
    }
   ],
   "source": [
    "webcam_test_stats = get_dataset_stats('./data/webcam_test/')\n",
    "\n",
    "print('WebCam Test Dataset: {}'.format(webcam_test_stats))"
   ]
  },
  {
   "cell_type": "code",
   "execution_count": null,
   "metadata": {},
   "outputs": [],
   "source": []
  }
 ]
}